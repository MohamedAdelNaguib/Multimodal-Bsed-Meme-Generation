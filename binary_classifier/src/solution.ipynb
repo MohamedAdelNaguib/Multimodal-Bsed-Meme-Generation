{
 "cells": [
  {
   "cell_type": "code",
   "execution_count": 1,
   "metadata": {},
   "outputs": [],
   "source": [
    "import pandas as pd\n",
    "import seaborn as sns\n",
    "import matplotlib.pyplot as plt\n",
    "from sklearn.ensemble import RandomForestClassifier\n",
    "from sklearn.model_selection import train_test_split"
   ]
  },
  {
   "cell_type": "code",
   "execution_count": 7,
   "metadata": {},
   "outputs": [
    {
     "data": {
      "text/html": [
       "<div>\n",
       "<style scoped>\n",
       "    .dataframe tbody tr th:only-of-type {\n",
       "        vertical-align: middle;\n",
       "    }\n",
       "\n",
       "    .dataframe tbody tr th {\n",
       "        vertical-align: top;\n",
       "    }\n",
       "\n",
       "    .dataframe thead th {\n",
       "        text-align: right;\n",
       "    }\n",
       "</style>\n",
       "<table border=\"1\" class=\"dataframe\">\n",
       "  <thead>\n",
       "    <tr style=\"text-align: right;\">\n",
       "      <th></th>\n",
       "      <th>ID</th>\n",
       "      <th>UKL</th>\n",
       "      <th>GJAH</th>\n",
       "      <th>ZIK</th>\n",
       "      <th>HUI</th>\n",
       "      <th>ERZ</th>\n",
       "      <th>CDx</th>\n",
       "      <th>BJZHD</th>\n",
       "      <th>NKJUD</th>\n",
       "      <th>LPI</th>\n",
       "      <th>BJKG</th>\n",
       "    </tr>\n",
       "  </thead>\n",
       "  <tbody>\n",
       "    <tr>\n",
       "      <th>0</th>\n",
       "      <td>0</td>\n",
       "      <td>160</td>\n",
       "      <td>oooo</td>\n",
       "      <td>x</td>\n",
       "      <td>oooo</td>\n",
       "      <td>www</td>\n",
       "      <td>5.0</td>\n",
       "      <td>vvvv</td>\n",
       "      <td>80.0</td>\n",
       "      <td>800000.0</td>\n",
       "      <td>qqqq</td>\n",
       "    </tr>\n",
       "    <tr>\n",
       "      <th>1</th>\n",
       "      <td>1</td>\n",
       "      <td>153</td>\n",
       "      <td>rrr</td>\n",
       "      <td>NaN</td>\n",
       "      <td>uuu</td>\n",
       "      <td>pppp</td>\n",
       "      <td>0.0</td>\n",
       "      <td>mmm</td>\n",
       "      <td>200.0</td>\n",
       "      <td>2000000.0</td>\n",
       "      <td>qqqq</td>\n",
       "    </tr>\n",
       "    <tr>\n",
       "      <th>2</th>\n",
       "      <td>2</td>\n",
       "      <td>5</td>\n",
       "      <td>oooo</td>\n",
       "      <td>x</td>\n",
       "      <td>oooo</td>\n",
       "      <td>www</td>\n",
       "      <td>19.0</td>\n",
       "      <td>hh</td>\n",
       "      <td>96.0</td>\n",
       "      <td>960000.0</td>\n",
       "      <td>hh</td>\n",
       "    </tr>\n",
       "    <tr>\n",
       "      <th>3</th>\n",
       "      <td>3</td>\n",
       "      <td>9</td>\n",
       "      <td>oooo</td>\n",
       "      <td>NaN</td>\n",
       "      <td>oooo</td>\n",
       "      <td>www</td>\n",
       "      <td>120.0</td>\n",
       "      <td>kkk</td>\n",
       "      <td>0.0</td>\n",
       "      <td>0.0</td>\n",
       "      <td>qqq</td>\n",
       "    </tr>\n",
       "    <tr>\n",
       "      <th>4</th>\n",
       "      <td>4</td>\n",
       "      <td>40</td>\n",
       "      <td>oooo</td>\n",
       "      <td>y</td>\n",
       "      <td>oooo</td>\n",
       "      <td>www</td>\n",
       "      <td>0.0</td>\n",
       "      <td>mmm</td>\n",
       "      <td>232.0</td>\n",
       "      <td>2320000.0</td>\n",
       "      <td>qqqq</td>\n",
       "    </tr>\n",
       "  </tbody>\n",
       "</table>\n",
       "</div>"
      ],
      "text/plain": [
       "   ID  UKL  GJAH  ZIK   HUI   ERZ    CDx BJZHD  NKJUD        LPI  BJKG\n",
       "0   0  160  oooo    x  oooo   www    5.0  vvvv   80.0   800000.0  qqqq\n",
       "1   1  153   rrr  NaN   uuu  pppp    0.0   mmm  200.0  2000000.0  qqqq\n",
       "2   2    5  oooo    x  oooo   www   19.0    hh   96.0   960000.0    hh\n",
       "3   3    9  oooo  NaN  oooo   www  120.0   kkk    0.0        0.0   qqq\n",
       "4   4   40  oooo    y  oooo   www    0.0   mmm  232.0  2320000.0  qqqq"
      ]
     },
     "execution_count": 7,
     "metadata": {},
     "output_type": "execute_result"
    }
   ],
   "source": [
    "# read and inspect the data\n",
    "df1 = pd.read_csv('../data/table_1.csv', delimiter=';')\n",
    "df1.head()\n"
   ]
  },
  {
   "cell_type": "code",
   "execution_count": 9,
   "metadata": {},
   "outputs": [
    {
     "name": "stdout",
     "output_type": "stream",
     "text": [
      "<class 'pandas.core.frame.DataFrame'>\n",
      "RangeIndex: 4070 entries, 0 to 4069\n",
      "Data columns (total 11 columns):\n",
      " #   Column  Non-Null Count  Dtype  \n",
      "---  ------  --------------  -----  \n",
      " 0   ID      4070 non-null   int64  \n",
      " 1   UKL     4070 non-null   int64  \n",
      " 2   GJAH    4006 non-null   object \n",
      " 3   ZIK     1705 non-null   object \n",
      " 4   HUI     4070 non-null   object \n",
      " 5   ERZ     4006 non-null   object \n",
      " 6   CDx     4070 non-null   float64\n",
      " 7   BJZHD   4004 non-null   object \n",
      " 8   NKJUD   3966 non-null   float64\n",
      " 9   LPI     3966 non-null   float64\n",
      " 10  BJKG    4004 non-null   object \n",
      "dtypes: float64(3), int64(2), object(6)\n",
      "memory usage: 349.9+ KB\n"
     ]
    }
   ],
   "source": [
    "# Understanding the data at hand\n",
    "df1.info()"
   ]
  },
  {
   "cell_type": "code",
   "execution_count": 11,
   "metadata": {},
   "outputs": [
    {
     "data": {
      "text/html": [
       "<div>\n",
       "<style scoped>\n",
       "    .dataframe tbody tr th:only-of-type {\n",
       "        vertical-align: middle;\n",
       "    }\n",
       "\n",
       "    .dataframe tbody tr th {\n",
       "        vertical-align: top;\n",
       "    }\n",
       "\n",
       "    .dataframe thead th {\n",
       "        text-align: right;\n",
       "    }\n",
       "</style>\n",
       "<table border=\"1\" class=\"dataframe\">\n",
       "  <thead>\n",
       "    <tr style=\"text-align: right;\">\n",
       "      <th></th>\n",
       "      <th>ID</th>\n",
       "      <th>UKL</th>\n",
       "      <th>CDx</th>\n",
       "      <th>NKJUD</th>\n",
       "      <th>LPI</th>\n",
       "    </tr>\n",
       "  </thead>\n",
       "  <tbody>\n",
       "    <tr>\n",
       "      <th>count</th>\n",
       "      <td>4070.000000</td>\n",
       "      <td>4070.000000</td>\n",
       "      <td>4070.000000</td>\n",
       "      <td>3966.000000</td>\n",
       "      <td>3.966000e+03</td>\n",
       "    </tr>\n",
       "    <tr>\n",
       "      <th>mean</th>\n",
       "      <td>1842.795577</td>\n",
       "      <td>96.270270</td>\n",
       "      <td>2322.720393</td>\n",
       "      <td>162.526979</td>\n",
       "      <td>1.625270e+06</td>\n",
       "    </tr>\n",
       "    <tr>\n",
       "      <th>std</th>\n",
       "      <td>1070.555687</td>\n",
       "      <td>56.131058</td>\n",
       "      <td>9104.752893</td>\n",
       "      <td>154.966817</td>\n",
       "      <td>1.549668e+06</td>\n",
       "    </tr>\n",
       "    <tr>\n",
       "      <th>min</th>\n",
       "      <td>0.000000</td>\n",
       "      <td>1.000000</td>\n",
       "      <td>0.000000</td>\n",
       "      <td>0.000000</td>\n",
       "      <td>0.000000e+00</td>\n",
       "    </tr>\n",
       "    <tr>\n",
       "      <th>25%</th>\n",
       "      <td>907.250000</td>\n",
       "      <td>47.000000</td>\n",
       "      <td>0.000000</td>\n",
       "      <td>0.000000</td>\n",
       "      <td>0.000000e+00</td>\n",
       "    </tr>\n",
       "    <tr>\n",
       "      <th>50%</th>\n",
       "      <td>1840.500000</td>\n",
       "      <td>101.000000</td>\n",
       "      <td>134.000000</td>\n",
       "      <td>120.000000</td>\n",
       "      <td>1.200000e+06</td>\n",
       "    </tr>\n",
       "    <tr>\n",
       "      <th>75%</th>\n",
       "      <td>2774.750000</td>\n",
       "      <td>152.000000</td>\n",
       "      <td>1000.000000</td>\n",
       "      <td>280.000000</td>\n",
       "      <td>2.800000e+06</td>\n",
       "    </tr>\n",
       "    <tr>\n",
       "      <th>max</th>\n",
       "      <td>3699.000000</td>\n",
       "      <td>179.000000</td>\n",
       "      <td>100000.000000</td>\n",
       "      <td>1160.000000</td>\n",
       "      <td>1.160000e+07</td>\n",
       "    </tr>\n",
       "  </tbody>\n",
       "</table>\n",
       "</div>"
      ],
      "text/plain": [
       "                ID          UKL            CDx        NKJUD           LPI\n",
       "count  4070.000000  4070.000000    4070.000000  3966.000000  3.966000e+03\n",
       "mean   1842.795577    96.270270    2322.720393   162.526979  1.625270e+06\n",
       "std    1070.555687    56.131058    9104.752893   154.966817  1.549668e+06\n",
       "min       0.000000     1.000000       0.000000     0.000000  0.000000e+00\n",
       "25%     907.250000    47.000000       0.000000     0.000000  0.000000e+00\n",
       "50%    1840.500000   101.000000     134.000000   120.000000  1.200000e+06\n",
       "75%    2774.750000   152.000000    1000.000000   280.000000  2.800000e+06\n",
       "max    3699.000000   179.000000  100000.000000  1160.000000  1.160000e+07"
      ]
     },
     "execution_count": 11,
     "metadata": {},
     "output_type": "execute_result"
    }
   ],
   "source": [
    "# get some statistics that describe the data\n",
    "df1.describe()"
   ]
  },
  {
   "cell_type": "code",
   "execution_count": 12,
   "metadata": {},
   "outputs": [
    {
     "data": {
      "text/plain": [
       "ID          0\n",
       "UKL         0\n",
       "GJAH       64\n",
       "ZIK      2365\n",
       "HUI         0\n",
       "ERZ        64\n",
       "CDx         0\n",
       "BJZHD      66\n",
       "NKJUD     104\n",
       "LPI       104\n",
       "BJKG       66\n",
       "dtype: int64"
      ]
     },
     "execution_count": 12,
     "metadata": {},
     "output_type": "execute_result"
    }
   ],
   "source": [
    "# check for missing values\n",
    "df1.isnull().sum()"
   ]
  },
  {
   "cell_type": "code",
   "execution_count": 18,
   "metadata": {},
   "outputs": [
    {
     "data": {
      "text/plain": [
       "370"
      ]
     },
     "execution_count": 18,
     "metadata": {},
     "output_type": "execute_result"
    }
   ],
   "source": [
    "# check for duplicates that may affect the model\n",
    "df1.duplicated().sum()"
   ]
  },
  {
   "cell_type": "code",
   "execution_count": 27,
   "metadata": {},
   "outputs": [
    {
     "data": {
      "image/png": "[encoded data removed]",
      "text/plain": [
       "<Figure size 640x480 with 1 Axes>"
      ]
     },
     "metadata": {},
     "output_type": "display_data"
    }
   ],
   "source": [
    "# check for outliers\n",
    "df1.boxplot()\n",
    "plt.show()\n"
   ]
  },
  {
   "cell_type": "code",
   "execution_count": 29,
   "metadata": {},
   "outputs": [
    {
     "data": {
      "image/png": "[encoded data removed]",
      "text/plain": [
       "<Figure size 640x480 with 1 Axes>"
      ]
     },
     "metadata": {},
     "output_type": "display_data"
    }
   ],
   "source": [
    "# read and inspect the data\n",
    "df2 = pd.read_csv('../data/table_2.csv', delimiter=';')\n",
    "df2.head()\n"
   ]
  },
  {
   "cell_type": "code",
   "execution_count": 31,
   "metadata": {},
   "outputs": [
    {
     "name": "stdout",
     "output_type": "stream",
     "text": [
      "<class 'pandas.core.frame.DataFrame'>\n",
      "RangeIndex: 4070 entries, 0 to 4069\n",
      "Data columns (total 9 columns):\n",
      " #   Column  Non-Null Count  Dtype  \n",
      "---  ------  --------------  -----  \n",
      " 0   POUG    4070 non-null   int64  \n",
      " 1   TRE     4070 non-null   float64\n",
      " 2   ID      4070 non-null   int64  \n",
      " 3   ZUB     4070 non-null   object \n",
      " 4   VOL     4070 non-null   object \n",
      " 5   UIO     4027 non-null   object \n",
      " 6   VBNM    4070 non-null   object \n",
      " 7   Type    4070 non-null   object \n",
      " 8   OIN     4028 non-null   float64\n",
      "dtypes: float64(2), int64(2), object(5)\n",
      "memory usage: 286.3+ KB\n"
     ]
    }
   ],
   "source": [
    "# Understanding the data at hand\n",
    "df2.info()\n"
   ]
  },
  {
   "cell_type": "code",
   "execution_count": 32,
   "metadata": {},
   "outputs": [
    {
     "data": {
      "text/html": [
       "<div>\n",
       "<style scoped>\n",
       "    .dataframe tbody tr th:only-of-type {\n",
       "        vertical-align: middle;\n",
       "    }\n",
       "\n",
       "    .dataframe tbody tr th {\n",
       "        vertical-align: top;\n",
       "    }\n",
       "\n",
       "    .dataframe thead th {\n",
       "        text-align: right;\n",
       "    }\n",
       "</style>\n",
       "<table border=\"1\" class=\"dataframe\">\n",
       "  <thead>\n",
       "    <tr style=\"text-align: right;\">\n",
       "      <th></th>\n",
       "      <th>POUG</th>\n",
       "      <th>TRE</th>\n",
       "      <th>ID</th>\n",
       "      <th>OIN</th>\n",
       "    </tr>\n",
       "  </thead>\n",
       "  <tbody>\n",
       "    <tr>\n",
       "      <th>count</th>\n",
       "      <td>4070.000000</td>\n",
       "      <td>4070.000000</td>\n",
       "      <td>4070.000000</td>\n",
       "      <td>4028.000000</td>\n",
       "    </tr>\n",
       "    <tr>\n",
       "      <th>mean</th>\n",
       "      <td>4.141032</td>\n",
       "      <td>3.412081</td>\n",
       "      <td>1848.971744</td>\n",
       "      <td>32.837974</td>\n",
       "    </tr>\n",
       "    <tr>\n",
       "      <th>std</th>\n",
       "      <td>6.696288</td>\n",
       "      <td>4.322153</td>\n",
       "      <td>1067.311062</td>\n",
       "      <td>12.709425</td>\n",
       "    </tr>\n",
       "    <tr>\n",
       "      <th>min</th>\n",
       "      <td>0.000000</td>\n",
       "      <td>0.000000</td>\n",
       "      <td>0.000000</td>\n",
       "      <td>13.750000</td>\n",
       "    </tr>\n",
       "    <tr>\n",
       "      <th>25%</th>\n",
       "      <td>0.000000</td>\n",
       "      <td>0.500000</td>\n",
       "      <td>919.250000</td>\n",
       "      <td>22.920000</td>\n",
       "    </tr>\n",
       "    <tr>\n",
       "      <th>50%</th>\n",
       "      <td>2.000000</td>\n",
       "      <td>1.750000</td>\n",
       "      <td>1852.500000</td>\n",
       "      <td>28.670000</td>\n",
       "    </tr>\n",
       "    <tr>\n",
       "      <th>75%</th>\n",
       "      <td>6.000000</td>\n",
       "      <td>5.000000</td>\n",
       "      <td>2771.750000</td>\n",
       "      <td>40.830000</td>\n",
       "    </tr>\n",
       "    <tr>\n",
       "      <th>max</th>\n",
       "      <td>67.000000</td>\n",
       "      <td>28.500000</td>\n",
       "      <td>3699.000000</td>\n",
       "      <td>80.250000</td>\n",
       "    </tr>\n",
       "  </tbody>\n",
       "</table>\n",
       "</div>"
      ],
      "text/plain": [
       "              POUG          TRE           ID          OIN\n",
       "count  4070.000000  4070.000000  4070.000000  4028.000000\n",
       "mean      4.141032     3.412081  1848.971744    32.837974\n",
       "std       6.696288     4.322153  1067.311062    12.709425\n",
       "min       0.000000     0.000000     0.000000    13.750000\n",
       "25%       0.000000     0.500000   919.250000    22.920000\n",
       "50%       2.000000     1.750000  1852.500000    28.670000\n",
       "75%       6.000000     5.000000  2771.750000    40.830000\n",
       "max      67.000000    28.500000  3699.000000    80.250000"
      ]
     },
     "execution_count": 32,
     "metadata": {},
     "output_type": "execute_result"
    }
   ],
   "source": [
    "# get some statistics that describe the data\n",
    "df2.describe()\n"
   ]
  },
  {
   "cell_type": "code",
   "execution_count": 33,
   "metadata": {},
   "outputs": [
    {
     "data": {
      "text/plain": [
       "POUG     0\n",
       "TRE      0\n",
       "ID       0\n",
       "ZUB      0\n",
       "VOL      0\n",
       "UIO     43\n",
       "VBNM     0\n",
       "Type     0\n",
       "OIN     42\n",
       "dtype: int64"
      ]
     },
     "execution_count": 33,
     "metadata": {},
     "output_type": "execute_result"
    }
   ],
   "source": [
    "# check for missing values\n",
    "df2.isnull().sum()"
   ]
  },
  {
   "cell_type": "code",
   "execution_count": 34,
   "metadata": {},
   "outputs": [
    {
     "data": {
      "text/plain": [
       "370"
      ]
     },
     "execution_count": 34,
     "metadata": {},
     "output_type": "execute_result"
    }
   ],
   "source": [
    "# check for duplicates that may affect the model\n",
    "df2.duplicated().sum()"
   ]
  },
  {
   "cell_type": "code",
   "execution_count": 35,
   "metadata": {},
   "outputs": [
    {
     "data": {
      "image/png": "[encoded data removed]",
      "text/plain": [
       "<Figure size 640x480 with 1 Axes>"
      ]
     },
     "metadata": {},
     "output_type": "display_data"
    }
   ],
   "source": [
    "df2.boxplot()\n",
    "plt.show()"
   ]
  },
  {
   "cell_type": "code",
   "execution_count": 45,
   "metadata": {},
   "outputs": [
    {
     "data": {
      "text/plain": [
       "(4070, 4070, 3700, 3700)"
      ]
     },
     "execution_count": 45,
     "metadata": {},
     "output_type": "execute_result"
    }
   ],
   "source": [
    "# check for duplicates that may affect the model\n",
    "len((df1['ID'])), len((df2['ID'])), len(set(df1['ID'])), len(set(df2['ID']))"
   ]
  },
  {
   "cell_type": "code",
   "execution_count": 49,
   "metadata": {},
   "outputs": [
    {
     "data": {
      "text/plain": [
       "(315, 316, 32)"
      ]
     },
     "execution_count": 49,
     "metadata": {},
     "output_type": "execute_result"
    }
   ],
   "source": [
    "# check for overlapped duplicates\n",
    "set1 = set(df1[df1.duplicated()]['ID'])\n",
    "set2 = set(df2[df2.duplicated()]['ID'])\n",
    "\n",
    "len(set1 - set2), len(set2 - set1), len(set1.intersection(set2))"
   ]
  },
  {
   "cell_type": "code",
   "execution_count": 55,
   "metadata": {},
   "outputs": [
    {
     "data": {
      "text/html": [
       "<div>\n",
       "<style scoped>\n",
       "    .dataframe tbody tr th:only-of-type {\n",
       "        vertical-align: middle;\n",
       "    }\n",
       "\n",
       "    .dataframe tbody tr th {\n",
       "        vertical-align: top;\n",
       "    }\n",
       "\n",
       "    .dataframe thead th {\n",
       "        text-align: right;\n",
       "    }\n",
       "</style>\n",
       "<table border=\"1\" class=\"dataframe\">\n",
       "  <thead>\n",
       "    <tr style=\"text-align: right;\">\n",
       "      <th></th>\n",
       "      <th>POUG</th>\n",
       "      <th>TRE</th>\n",
       "      <th>ID</th>\n",
       "      <th>ZUB</th>\n",
       "      <th>VOL</th>\n",
       "      <th>UIO</th>\n",
       "      <th>VBNM</th>\n",
       "      <th>Type</th>\n",
       "      <th>OIN</th>\n",
       "      <th>UKL</th>\n",
       "      <th>GJAH</th>\n",
       "      <th>ZIK</th>\n",
       "      <th>HUI</th>\n",
       "      <th>ERZ</th>\n",
       "      <th>CDx</th>\n",
       "      <th>BJZHD</th>\n",
       "      <th>NKJUD</th>\n",
       "      <th>LPI</th>\n",
       "      <th>BJKG</th>\n",
       "    </tr>\n",
       "  </thead>\n",
       "  <tbody>\n",
       "    <tr>\n",
       "      <th>0</th>\n",
       "      <td>1</td>\n",
       "      <td>1.750</td>\n",
       "      <td>0</td>\n",
       "      <td>t</td>\n",
       "      <td>f</td>\n",
       "      <td>uuuu</td>\n",
       "      <td>t</td>\n",
       "      <td>n</td>\n",
       "      <td>17.92</td>\n",
       "      <td>160</td>\n",
       "      <td>oooo</td>\n",
       "      <td>x</td>\n",
       "      <td>oooo</td>\n",
       "      <td>www</td>\n",
       "      <td>5.0</td>\n",
       "      <td>vvvv</td>\n",
       "      <td>80.0</td>\n",
       "      <td>800000.0</td>\n",
       "      <td>qqqq</td>\n",
       "    </tr>\n",
       "    <tr>\n",
       "      <th>1</th>\n",
       "      <td>0</td>\n",
       "      <td>0.290</td>\n",
       "      <td>1</td>\n",
       "      <td>f</td>\n",
       "      <td>f</td>\n",
       "      <td>wwww</td>\n",
       "      <td>f</td>\n",
       "      <td>n</td>\n",
       "      <td>16.92</td>\n",
       "      <td>153</td>\n",
       "      <td>rrr</td>\n",
       "      <td>NaN</td>\n",
       "      <td>uuu</td>\n",
       "      <td>pppp</td>\n",
       "      <td>0.0</td>\n",
       "      <td>mmm</td>\n",
       "      <td>200.0</td>\n",
       "      <td>2000000.0</td>\n",
       "      <td>qqqq</td>\n",
       "    </tr>\n",
       "    <tr>\n",
       "      <th>2</th>\n",
       "      <td>1</td>\n",
       "      <td>0.000</td>\n",
       "      <td>2</td>\n",
       "      <td>f</td>\n",
       "      <td>f</td>\n",
       "      <td>wwww</td>\n",
       "      <td>t</td>\n",
       "      <td>n</td>\n",
       "      <td>31.25</td>\n",
       "      <td>5</td>\n",
       "      <td>oooo</td>\n",
       "      <td>x</td>\n",
       "      <td>oooo</td>\n",
       "      <td>www</td>\n",
       "      <td>19.0</td>\n",
       "      <td>hh</td>\n",
       "      <td>96.0</td>\n",
       "      <td>960000.0</td>\n",
       "      <td>hh</td>\n",
       "    </tr>\n",
       "    <tr>\n",
       "      <th>3</th>\n",
       "      <td>0</td>\n",
       "      <td>0.335</td>\n",
       "      <td>3</td>\n",
       "      <td>f</td>\n",
       "      <td>f</td>\n",
       "      <td>uuuu</td>\n",
       "      <td>f</td>\n",
       "      <td>n</td>\n",
       "      <td>48.17</td>\n",
       "      <td>9</td>\n",
       "      <td>oooo</td>\n",
       "      <td>NaN</td>\n",
       "      <td>oooo</td>\n",
       "      <td>www</td>\n",
       "      <td>120.0</td>\n",
       "      <td>kkk</td>\n",
       "      <td>0.0</td>\n",
       "      <td>0.0</td>\n",
       "      <td>qqq</td>\n",
       "    </tr>\n",
       "    <tr>\n",
       "      <th>4</th>\n",
       "      <td>0</td>\n",
       "      <td>0.500</td>\n",
       "      <td>4</td>\n",
       "      <td>t</td>\n",
       "      <td>f</td>\n",
       "      <td>wwww</td>\n",
       "      <td>f</td>\n",
       "      <td>n</td>\n",
       "      <td>32.33</td>\n",
       "      <td>40</td>\n",
       "      <td>oooo</td>\n",
       "      <td>y</td>\n",
       "      <td>oooo</td>\n",
       "      <td>www</td>\n",
       "      <td>0.0</td>\n",
       "      <td>mmm</td>\n",
       "      <td>232.0</td>\n",
       "      <td>2320000.0</td>\n",
       "      <td>qqqq</td>\n",
       "    </tr>\n",
       "  </tbody>\n",
       "</table>\n",
       "</div>"
      ],
      "text/plain": [
       "   POUG    TRE  ID ZUB VOL   UIO VBNM Type    OIN  UKL  GJAH  ZIK   HUI   ERZ  \\\n",
       "0     1  1.750   0   t   f  uuuu    t    n  17.92  160  oooo    x  oooo   www   \n",
       "1     0  0.290   1   f   f  wwww    f    n  16.92  153   rrr  NaN   uuu  pppp   \n",
       "2     1  0.000   2   f   f  wwww    t    n  31.25    5  oooo    x  oooo   www   \n",
       "3     0  0.335   3   f   f  uuuu    f    n  48.17    9  oooo  NaN  oooo   www   \n",
       "4     0  0.500   4   t   f  wwww    f    n  32.33   40  oooo    y  oooo   www   \n",
       "\n",
       "     CDx BJZHD  NKJUD        LPI  BJKG  \n",
       "0    5.0  vvvv   80.0   800000.0  qqqq  \n",
       "1    0.0   mmm  200.0  2000000.0  qqqq  \n",
       "2   19.0    hh   96.0   960000.0    hh  \n",
       "3  120.0   kkk    0.0        0.0   qqq  \n",
       "4    0.0   mmm  232.0  2320000.0  qqqq  "
      ]
     },
     "execution_count": 55,
     "metadata": {},
     "output_type": "execute_result"
    }
   ],
   "source": [
    "# left  merge on the ID column to get the features of df1 in df2 with the target feature type\n",
    "df = pd.merge(df2, df1, how='left', on='ID')\n",
    "#  Dropping the duplicates after merging to ensure the highest quality data\n",
    "df = df.drop_duplicates()\n",
    "df.head()"
   ]
  },
  {
   "cell_type": "code",
   "execution_count": 56,
   "metadata": {},
   "outputs": [
    {
     "data": {
      "text/plain": [
       "3700"
      ]
     },
     "execution_count": 56,
     "metadata": {},
     "output_type": "execute_result"
    }
   ],
   "source": [
    "len(df)"
   ]
  },
  {
   "cell_type": "code",
   "execution_count": 65,
   "metadata": {},
   "outputs": [
    {
     "data": {
      "text/plain": [
       "POUG        0\n",
       "TRE         0\n",
       "ID          0\n",
       "ZUB         0\n",
       "VOL         0\n",
       "UIO        39\n",
       "VBNM        0\n",
       "Type        0\n",
       "OIN        39\n",
       "UKL         0\n",
       "GJAH       64\n",
       "ZIK      2145\n",
       "HUI         0\n",
       "ERZ        64\n",
       "CDx         0\n",
       "BJZHD      66\n",
       "NKJUD     100\n",
       "LPI       100\n",
       "BJKG       66\n",
       "dtype: int64"
      ]
     },
     "execution_count": 65,
     "metadata": {},
     "output_type": "execute_result"
    }
   ],
   "source": [
    "#  check for missing values in the merged data\n",
    "df.isnull().sum()\n"
   ]
  },
  {
   "cell_type": "code",
   "execution_count": null,
   "metadata": {},
   "outputs": [],
   "source": []
  }
 ],
 "metadata": {
  "kernelspec": {
   "display_name": "bmw",
   "language": "python",
   "name": "python3"
  },
  "language_info": {
   "codemirror_mode": {
    "name": "ipython",
    "version": 3
   },
   "file_extension": ".py",
   "mimetype": "text/x-python",
   "name": "python",
   "nbconvert_exporter": "python",
   "pygments_lexer": "ipython3",
   "version": "3.12.4"
  }
 },
 "nbformat": 4,
 "nbformat_minor": 2
}
